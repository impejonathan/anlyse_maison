{
 "cells": [
  {
   "cell_type": "markdown",
   "metadata": {},
   "source": [
    "# Introduction"
   ]
  },
  {
   "cell_type": "markdown",
   "metadata": {},
   "source": [
    "Plutot que de présenter le machine learning par la théorie, nous allons parler ici directement de la pratique en présentant le package scikit-learn. Le but est de parcourir ses principales classes et méthodes"
   ]
  },
  {
   "attachments": {},
   "cell_type": "markdown",
   "metadata": {},
   "source": [
    "Il y a trois grandes classes dans Scikit-learn:\n",
    "- **`Estimateur`** : ce sont les différents modèles de Machine Learning proposés par scikit learn\n",
    "- **`Transformeur`** : ce sont les outils permettant de transformer les données en vue du modèle de MachineLearning\n",
    "- **`Pipeline`**: Il permet de combiner transformeur et estimateur pour appliquer le même trainement aux jeux de train et de test.\n"
   ]
  },
  {
   "attachments": {},
   "cell_type": "markdown",
   "metadata": {},
   "source": [
    "# I La classe estimateur"
   ]
  },
  {
   "attachments": {},
   "cell_type": "markdown",
   "metadata": {},
   "source": [
    "Tout modèle de machine learning, qu'il soit un modèle de regression, de classification ou de clustering (voir un transformer) correspond à un objet [estimator](https://scikit-learn.org/stable/modules/generated/sklearn.base.BaseEstimator.html#sklearn.base.BaseEstimator). \n",
    "\n",
    "On retrouve ainsi dans scikit-learn les modèles suivant:\n",
    "- LinearRegression(), Ridge(), Lasso(), Elasticnet(), LogisticRegression(), RidgeClassifier() ... dans [linear_model](https://scikit-learn.org/stable/modules/classes.html#module-sklearn.linear_model)\n",
    "- KNeighborsClassifier(), KNeighborsRegressor() ... dans [neighbors](https://scikit-learn.org/stable/modules/classes.html#module-sklearn.neighbors)\n",
    "- SVC() dans [svm](https://scikit-learn.org/stable/modules/classes.html#module-sklearn.svm)\n",
    "- GradientBoostingClassifier(), GradientBoostingRegressor(), IsolationForest(),RandomForestClassifier(), RandomForestRegressor() ... dans [ensemble](https://scikit-learn.org/stable/modules/classes.html#module-sklearn.ensemble)\n",
    "- GaussianNB() ... dans [nayve_bayes](https://scikit-learn.org/stable/modules/classes.html#module-sklearn.naive_bayes)\n",
    "\n",
    "Les seuls grands models absents de ce package sont Xgboost(qui est un package), Catboost, lightgbm et les réseaux de neurones (qu'on travaillera avec Pytorch ou Tensorflow)"
   ]
  },
  {
   "cell_type": "markdown",
   "metadata": {},
   "source": [
    "Comme tous les modèles sont issus de la même classe, ils possèdent tous 4 méthodes qui vont permettre de les travailler de la même façon:\n",
    "1. L'initialisation qui permet de créer le modèle et qui prend en input ses hyper-paramètres\n",
    "2. L'entrainement qui prend en input un dataframe de variables explicatives (X) et pour les modèles supervisés un dataframe cible (y)\n",
    "3. L'évaluation qui prend en input un dataframe de variables explicatives (X) et pour les modèles supervisés un dataframe cible (y)\n",
    "4. La prédiction qui prend en input uniquement un dataframe de variables explicatives (X)"
   ]
  },
  {
   "cell_type": "markdown",
   "metadata": {},
   "source": [
    "## 0. Création du dataset"
   ]
  },
  {
   "cell_type": "code",
   "execution_count": 2,
   "metadata": {},
   "outputs": [
    {
     "data": {
      "text/html": [
       "<div>\n",
       "<style scoped>\n",
       "    .dataframe tbody tr th:only-of-type {\n",
       "        vertical-align: middle;\n",
       "    }\n",
       "\n",
       "    .dataframe tbody tr th {\n",
       "        vertical-align: top;\n",
       "    }\n",
       "\n",
       "    .dataframe thead th {\n",
       "        text-align: right;\n",
       "    }\n",
       "</style>\n",
       "<table border=\"1\" class=\"dataframe\">\n",
       "  <thead>\n",
       "    <tr style=\"text-align: right;\">\n",
       "      <th></th>\n",
       "      <th>id</th>\n",
       "      <th>date</th>\n",
       "      <th>price</th>\n",
       "      <th>bedrooms</th>\n",
       "      <th>bathrooms</th>\n",
       "      <th>sqft_living</th>\n",
       "      <th>sqft_lot</th>\n",
       "      <th>floors</th>\n",
       "      <th>waterfront</th>\n",
       "      <th>view</th>\n",
       "      <th>...</th>\n",
       "      <th>grade</th>\n",
       "      <th>sqft_above</th>\n",
       "      <th>sqft_basement</th>\n",
       "      <th>yr_built</th>\n",
       "      <th>yr_renovated</th>\n",
       "      <th>zipcode</th>\n",
       "      <th>lat</th>\n",
       "      <th>long</th>\n",
       "      <th>sqft_living15</th>\n",
       "      <th>sqft_lot15</th>\n",
       "    </tr>\n",
       "  </thead>\n",
       "  <tbody>\n",
       "    <tr>\n",
       "      <th>0</th>\n",
       "      <td>7129300520</td>\n",
       "      <td>20141013T000000</td>\n",
       "      <td>221900.0</td>\n",
       "      <td>3</td>\n",
       "      <td>1.00</td>\n",
       "      <td>1180</td>\n",
       "      <td>5650</td>\n",
       "      <td>1.0</td>\n",
       "      <td>0</td>\n",
       "      <td>0</td>\n",
       "      <td>...</td>\n",
       "      <td>7</td>\n",
       "      <td>1180</td>\n",
       "      <td>0</td>\n",
       "      <td>1955</td>\n",
       "      <td>0</td>\n",
       "      <td>98178</td>\n",
       "      <td>47.5112</td>\n",
       "      <td>-122.257</td>\n",
       "      <td>1340</td>\n",
       "      <td>5650</td>\n",
       "    </tr>\n",
       "    <tr>\n",
       "      <th>1</th>\n",
       "      <td>6414100192</td>\n",
       "      <td>20141209T000000</td>\n",
       "      <td>538000.0</td>\n",
       "      <td>3</td>\n",
       "      <td>2.25</td>\n",
       "      <td>2570</td>\n",
       "      <td>7242</td>\n",
       "      <td>2.0</td>\n",
       "      <td>0</td>\n",
       "      <td>0</td>\n",
       "      <td>...</td>\n",
       "      <td>7</td>\n",
       "      <td>2170</td>\n",
       "      <td>400</td>\n",
       "      <td>1951</td>\n",
       "      <td>1991</td>\n",
       "      <td>98125</td>\n",
       "      <td>47.7210</td>\n",
       "      <td>-122.319</td>\n",
       "      <td>1690</td>\n",
       "      <td>7639</td>\n",
       "    </tr>\n",
       "    <tr>\n",
       "      <th>2</th>\n",
       "      <td>5631500400</td>\n",
       "      <td>20150225T000000</td>\n",
       "      <td>180000.0</td>\n",
       "      <td>2</td>\n",
       "      <td>1.00</td>\n",
       "      <td>770</td>\n",
       "      <td>10000</td>\n",
       "      <td>1.0</td>\n",
       "      <td>0</td>\n",
       "      <td>0</td>\n",
       "      <td>...</td>\n",
       "      <td>6</td>\n",
       "      <td>770</td>\n",
       "      <td>0</td>\n",
       "      <td>1933</td>\n",
       "      <td>0</td>\n",
       "      <td>98028</td>\n",
       "      <td>47.7379</td>\n",
       "      <td>-122.233</td>\n",
       "      <td>2720</td>\n",
       "      <td>8062</td>\n",
       "    </tr>\n",
       "    <tr>\n",
       "      <th>3</th>\n",
       "      <td>2487200875</td>\n",
       "      <td>20141209T000000</td>\n",
       "      <td>604000.0</td>\n",
       "      <td>4</td>\n",
       "      <td>3.00</td>\n",
       "      <td>1960</td>\n",
       "      <td>5000</td>\n",
       "      <td>1.0</td>\n",
       "      <td>0</td>\n",
       "      <td>0</td>\n",
       "      <td>...</td>\n",
       "      <td>7</td>\n",
       "      <td>1050</td>\n",
       "      <td>910</td>\n",
       "      <td>1965</td>\n",
       "      <td>0</td>\n",
       "      <td>98136</td>\n",
       "      <td>47.5208</td>\n",
       "      <td>-122.393</td>\n",
       "      <td>1360</td>\n",
       "      <td>5000</td>\n",
       "    </tr>\n",
       "    <tr>\n",
       "      <th>4</th>\n",
       "      <td>1954400510</td>\n",
       "      <td>20150218T000000</td>\n",
       "      <td>510000.0</td>\n",
       "      <td>3</td>\n",
       "      <td>2.00</td>\n",
       "      <td>1680</td>\n",
       "      <td>8080</td>\n",
       "      <td>1.0</td>\n",
       "      <td>0</td>\n",
       "      <td>0</td>\n",
       "      <td>...</td>\n",
       "      <td>8</td>\n",
       "      <td>1680</td>\n",
       "      <td>0</td>\n",
       "      <td>1987</td>\n",
       "      <td>0</td>\n",
       "      <td>98074</td>\n",
       "      <td>47.6168</td>\n",
       "      <td>-122.045</td>\n",
       "      <td>1800</td>\n",
       "      <td>7503</td>\n",
       "    </tr>\n",
       "  </tbody>\n",
       "</table>\n",
       "<p>5 rows × 21 columns</p>\n",
       "</div>"
      ],
      "text/plain": [
       "           id             date     price  bedrooms  bathrooms  sqft_living  \\\n",
       "0  7129300520  20141013T000000  221900.0         3       1.00         1180   \n",
       "1  6414100192  20141209T000000  538000.0         3       2.25         2570   \n",
       "2  5631500400  20150225T000000  180000.0         2       1.00          770   \n",
       "3  2487200875  20141209T000000  604000.0         4       3.00         1960   \n",
       "4  1954400510  20150218T000000  510000.0         3       2.00         1680   \n",
       "\n",
       "   sqft_lot  floors  waterfront  view  ...  grade  sqft_above  sqft_basement  \\\n",
       "0      5650     1.0           0     0  ...      7        1180              0   \n",
       "1      7242     2.0           0     0  ...      7        2170            400   \n",
       "2     10000     1.0           0     0  ...      6         770              0   \n",
       "3      5000     1.0           0     0  ...      7        1050            910   \n",
       "4      8080     1.0           0     0  ...      8        1680              0   \n",
       "\n",
       "   yr_built  yr_renovated  zipcode      lat     long  sqft_living15  \\\n",
       "0      1955             0    98178  47.5112 -122.257           1340   \n",
       "1      1951          1991    98125  47.7210 -122.319           1690   \n",
       "2      1933             0    98028  47.7379 -122.233           2720   \n",
       "3      1965             0    98136  47.5208 -122.393           1360   \n",
       "4      1987             0    98074  47.6168 -122.045           1800   \n",
       "\n",
       "   sqft_lot15  \n",
       "0        5650  \n",
       "1        7639  \n",
       "2        8062  \n",
       "3        5000  \n",
       "4        7503  \n",
       "\n",
       "[5 rows x 21 columns]"
      ]
     },
     "execution_count": 2,
     "metadata": {},
     "output_type": "execute_result"
    }
   ],
   "source": [
    "import pandas as pd\n",
    "\n",
    "df = pd.read_csv(\"kc_house_data.csv\")\n",
    "\n",
    "# On va utiliser un data set ou l'objectif sera de prédire le cout d'une assurance maladie \n",
    "# en fonction de l'age de la personne et de son indice de masse corporelle\n",
    "\n",
    "df.head()"
   ]
  },
  {
   "cell_type": "code",
   "execution_count": 56,
   "metadata": {},
   "outputs": [
    {
     "name": "stdout",
     "output_type": "stream",
     "text": [
      "<class 'pandas.core.frame.DataFrame'>\n",
      "RangeIndex: 21613 entries, 0 to 21612\n",
      "Data columns (total 21 columns):\n",
      " #   Column         Non-Null Count  Dtype  \n",
      "---  ------         --------------  -----  \n",
      " 0   id             21613 non-null  int64  \n",
      " 1   date           21613 non-null  object \n",
      " 2   price          21613 non-null  float64\n",
      " 3   bedrooms       21613 non-null  int64  \n",
      " 4   bathrooms      21613 non-null  float64\n",
      " 5   sqft_living    21613 non-null  int64  \n",
      " 6   sqft_lot       21613 non-null  int64  \n",
      " 7   floors         21613 non-null  float64\n",
      " 8   waterfront     21613 non-null  int64  \n",
      " 9   view           21613 non-null  int64  \n",
      " 10  condition      21613 non-null  int64  \n",
      " 11  grade          21613 non-null  int64  \n",
      " 12  sqft_above     21613 non-null  int64  \n",
      " 13  sqft_basement  21613 non-null  int64  \n",
      " 14  yr_built       21613 non-null  int64  \n",
      " 15  yr_renovated   21613 non-null  int64  \n",
      " 16  zipcode        21613 non-null  int64  \n",
      " 17  lat            21613 non-null  float64\n",
      " 18  long           21613 non-null  float64\n",
      " 19  sqft_living15  21613 non-null  int64  \n",
      " 20  sqft_lot15     21613 non-null  int64  \n",
      "dtypes: float64(5), int64(15), object(1)\n",
      "memory usage: 3.5+ MB\n"
     ]
    }
   ],
   "source": [
    "df.info()"
   ]
  },
  {
   "cell_type": "code",
   "execution_count": 6,
   "metadata": {},
   "outputs": [
    {
     "data": {
      "text/plain": [
       "<AxesSubplot: title={'center': 'prix en fonction des m2 habitable'}, xlabel='sqft_living', ylabel='price'>"
      ]
     },
     "execution_count": 6,
     "metadata": {},
     "output_type": "execute_result"
    },
    {
     "data": {
      "image/png": "[encoded data removed]",
      "text/plain": [
       "<Figure size 640x480 with 1 Axes>"
      ]
     },
     "metadata": {},
     "output_type": "display_data"
    }
   ],
   "source": [
    "df.plot(kind=\"scatter\", x= \"sqft_living\", y=\"price\", title=\"prix en fonction des m2 habitable\")"
   ]
  },
  {
   "cell_type": "code",
   "execution_count": 15,
   "metadata": {},
   "outputs": [
    {
     "data": {
      "text/plain": [
       "<AxesSubplot: title={'center': 'prix en fonction du nombre de chambres'}, xlabel='bedrooms', ylabel='price'>"
      ]
     },
     "execution_count": 15,
     "metadata": {},
     "output_type": "execute_result"
    },
    {
     "data": {
      "image/png": "[encoded data removed]",
      "text/plain": [
       "<Figure size 640x480 with 1 Axes>"
      ]
     },
     "metadata": {},
     "output_type": "display_data"
    }
   ],
   "source": [
    "df.plot(kind=\"scatter\", x= \"bedrooms\", y=\"price\", title=\"prix en fonction du nombre de chambres\")"
   ]
  },
  {
   "cell_type": "markdown",
   "metadata": {},
   "source": [
    "## 1. Initialisation d'un estimateur"
   ]
  },
  {
   "cell_type": "markdown",
   "metadata": {},
   "source": [
    "On crée nos jeux"
   ]
  },
  {
   "cell_type": "code",
   "execution_count": 50,
   "metadata": {},
   "outputs": [],
   "source": [
    "from sklearn.model_selection import train_test_split\n",
    "y = df['price']\n",
    "X = df[[\"sqft_living\",\"bedrooms\"]]\n",
    "X_train, X_test, y_train, y_test = train_test_split(X, y, train_size=0.8, random_state=42)"
   ]
  },
  {
   "attachments": {},
   "cell_type": "markdown",
   "metadata": {},
   "source": [
    "On commence par importer le modèle qu'on souhaite utiliser. On l'initialise en définissant ses hyperparamètres.\n",
    "\n",
    "Ici on va prendre l'exemple de la régression linéaire regularisée à l'aide par Ridge qui prend un seul paramètre \"alpha\"."
   ]
  },
  {
   "cell_type": "code",
   "execution_count": 51,
   "metadata": {},
   "outputs": [
    {
     "name": "stdout",
     "output_type": "stream",
     "text": [
      "KNeighborsRegressor(n_neighbors=4) <class 'sklearn.neighbors._regression.KNeighborsRegressor'>\n"
     ]
    }
   ],
   "source": [
    "from sklearn.neighbors import KNeighborsRegressor\n",
    "\n",
    "model = KNeighborsRegressor(n_neighbors=4)\n",
    "\n",
    "print(model, type(model))"
   ]
  },
  {
   "cell_type": "markdown",
   "metadata": {},
   "source": [
    "On obtient bien un objet de la classe Ridge."
   ]
  },
  {
   "attachments": {},
   "cell_type": "markdown",
   "metadata": {},
   "source": [
    "## 2. Entrainer le modèle avec la méthode .fit()"
   ]
  },
  {
   "cell_type": "code",
   "execution_count": 52,
   "metadata": {},
   "outputs": [
    {
     "name": "stdout",
     "output_type": "stream",
     "text": [
      "KNeighborsRegressor(n_neighbors=4) <class 'sklearn.neighbors._regression.KNeighborsRegressor'>\n"
     ]
    }
   ],
   "source": [
    "\n",
    "trained_model = model.fit(X_train,y_train)\n",
    "\n",
    "print(trained_model, type(trained_model))"
   ]
  },
  {
   "attachments": {},
   "cell_type": "markdown",
   "metadata": {},
   "source": [
    "## 3. Evaluer le modèle avec la méthode .score()"
   ]
  },
  {
   "cell_type": "code",
   "execution_count": 53,
   "metadata": {},
   "outputs": [
    {
     "data": {
      "text/plain": [
       "0.44134445986511184"
      ]
     },
     "execution_count": 53,
     "metadata": {},
     "output_type": "execute_result"
    }
   ],
   "source": [
    "trained_model.score(X_test,y_test)"
   ]
  },
  {
   "cell_type": "markdown",
   "metadata": {},
   "source": [
    "## 4. Prédire avec la méthode .predict()"
   ]
  },
  {
   "cell_type": "code",
   "execution_count": 40,
   "metadata": {},
   "outputs": [
    {
     "name": "stdout",
     "output_type": "stream",
     "text": [
      "la valeur prédite est [535000.], alors que la valeur réelle est [221900.]\n"
     ]
    }
   ],
   "source": [
    "\n",
    "predict = trained_model.predict(X_test.head(1))\n",
    "real = y.head(1).values\n",
    "\n",
    "print(f\"la valeur prédite est {predict}, alors que la valeur réelle est {real}\")"
   ]
  },
  {
   "cell_type": "markdown",
   "metadata": {},
   "source": [
    "# II La classe transformeur"
   ]
  },
  {
   "attachments": {},
   "cell_type": "markdown",
   "metadata": {},
   "source": [
    "La plupart du temps les données ont besoin d'être transformée avant de pouvoir être utilisées dans un modèle de Machine Learning, on appelle cela le **`preprocessing`**.\n",
    "\n",
    "Il est de [plusieurs sortes](https://scikit-learn.org/stable/data_transforms.html):\n",
    "- **`Standardisation et Normalisation`**: visent à uniformiser les valeurs des données\n",
    "- **`Encoding et discrétisation`**: transforment toutes les variables explicatives au format numérique\n",
    "- **`Imputation`**: gérent les valeurs manquantes\n",
    "- **`Extraction et generation`**: créent de nouvelles données à partir des données initiales\n",
    "- **`Selection, Reduce et expand`**: selectionnent le bon nombre de variables explicatives et les bonnes variables explicatives.\n"
   ]
  },
  {
   "attachments": {},
   "cell_type": "markdown",
   "metadata": {},
   "source": [
    "Comme pour l'estimateur, ces classes partagent des méthodes communes:\n",
    "- **`initialisation`**\n",
    "- **`fit`**: pour développer une fonction de transformation\n",
    "- **`transform`**: pour appliquer la fonction développée\n",
    "- **`fit_transform`**: pour développer la transformation puis pour l'appliquer directement"
   ]
  },
  {
   "attachments": {},
   "cell_type": "markdown",
   "metadata": {},
   "source": [
    "Pourquoi séparer le fit du transform?  -> a cause du danger du **`dataleaking`**\n",
    "Sur le jeu de train, on veut créer les transformateurs, par exemple le min-max scaler permet de transformer toutes les données entre 0 et 1 en soustrayant par le minimum et en divisant par le maximum. Cependant ces deux valeurs sont celles du jeu de train, pas celles du jeu en entier, car on n’a pas le droit de se servir des données du test (data-leaking). Il faut donc:\n",
    "- fit sur les valeurs trains et transform (d’ou fit-transform)\n",
    "- uniquement faire transform sur les valeurs du test."
   ]
  },
  {
   "cell_type": "code",
   "execution_count": 47,
   "metadata": {},
   "outputs": [
    {
     "data": {
      "text/plain": [
       "0.4382909204329777"
      ]
     },
     "execution_count": 47,
     "metadata": {},
     "output_type": "execute_result"
    }
   ],
   "source": [
    "# initialisation\n",
    "from sklearn.model_selection import train_test_split\n",
    "y = df['price']\n",
    "X = df[[\"sqft_living\",\"bedrooms\"]]\n",
    "X_train, X_test, y_train, y_test = train_test_split(X, y, train_size=0.8,random_state=42)\n",
    "\n",
    "# pre-processing de X_train\n",
    "from sklearn.preprocessing import MinMaxScaler\n",
    "\n",
    "minmax = MinMaxScaler()\n",
    "X_train_min_max = minmax.fit_transform(X_train)\n",
    "\n",
    "# Entrainement sur X_train\n",
    "from sklearn.neighbors import KNeighborsRegressor\n",
    "model = KNeighborsRegressor(n_neighbors=4)\n",
    "trained_model = model.fit(X_train_min_max,y_train)\n",
    "\n",
    "# pre-processing de X_test\n",
    "X_test_min_max = minmax.transform(X_test)\n",
    "\n",
    "# scoring\n",
    "trained_model.score(X_test_min_max,y_test)\n"
   ]
  },
  {
   "cell_type": "markdown",
   "metadata": {},
   "source": [
    "# III Le pipeline"
   ]
  },
  {
   "attachments": {},
   "cell_type": "markdown",
   "metadata": {},
   "source": [
    "En programmation, on aime bien factoriser et c'est dérangement de devoir faire deux fois le pre-processing et en plus avec un process different pour le jeu de train (fit_transform) et le jeu de test (transform).\n",
    "\n",
    "C'est pour cela qu'on a créé les pipelines."
   ]
  },
  {
   "attachments": {},
   "cell_type": "markdown",
   "metadata": {},
   "source": [
    "Le pipeline est un processus qu'on fait subir aux données composé de:\n",
    "- 1 ou plusieurs transformers\n",
    "- 1 seul et unique estimateur à la fin"
   ]
  },
  {
   "cell_type": "markdown",
   "metadata": {},
   "source": [
    "Pour créer un pipeline, on liste les étapes en leur donnannt à chaque fois un nom"
   ]
  },
  {
   "cell_type": "code",
   "execution_count": 48,
   "metadata": {},
   "outputs": [],
   "source": [
    "# Initialisation\n",
    "from sklearn.model_selection import train_test_split\n",
    "y = df['price']\n",
    "X = df[[\"sqft_living\",\"bedrooms\"]]\n",
    "X_train, X_test, y_train, y_test = train_test_split(X, y, train_size=0.8, random_state=42)\n",
    "\n",
    "\n",
    "# Création du pipeline\n",
    "from sklearn.pipeline import Pipeline\n",
    "from sklearn.impute import SimpleImputer\n",
    "\n",
    "from sklearn.preprocessing import MinMaxScaler\n",
    "from sklearn.neighbors import KNeighborsRegressor\n",
    "\n",
    "simple = SimpleImputer(strategy='mean')  # transformer\n",
    "minmax = MinMaxScaler()   # transformer\n",
    "knn_4 = KNeighborsRegressor(n_neighbors=4) # estimateur\n",
    "\n",
    "pipe = Pipeline([\n",
    "     ('simple_imputer', simple),\n",
    "     ('minmax', minmax),\n",
    "     ('knn', knn_4)\n",
    "])"
   ]
  },
  {
   "attachments": {},
   "cell_type": "markdown",
   "metadata": {},
   "source": [
    "Un pipeline fonctionne comme un estimator, il possède les méthodes:\n",
    "- fit qui developpe les transformers, les applique et entraine l'estimateur\n",
    "- score: qui applique les transformers et calcule le score\n",
    "- predict: qui applique les transformers et réalise une prédiction"
   ]
  },
  {
   "cell_type": "code",
   "execution_count": 49,
   "metadata": {},
   "outputs": [
    {
     "data": {
      "text/plain": [
       "0.4382909204329777"
      ]
     },
     "execution_count": 49,
     "metadata": {},
     "output_type": "execute_result"
    }
   ],
   "source": [
    "# Entrainement sur X_train\n",
    "trained_pipe = pipe.fit(X_train,y_train)\n",
    "\n",
    "# prediction sur X_test\n",
    "trained_pipe.predict(X_test)\n",
    "\n",
    "# scoring sur X_test\n",
    "trained_pipe.score(X_test,y_test)\n"
   ]
  },
  {
   "cell_type": "markdown",
   "metadata": {},
   "source": [
    "Important, on peut accéder aux étapes d'un pipelien grâce à leur nom"
   ]
  },
  {
   "cell_type": "code",
   "execution_count": 55,
   "metadata": {},
   "outputs": [
    {
     "data": {
      "text/plain": [
       "array([[0.15136054, 0.12121212],\n",
       "       [0.22193878, 0.15151515],\n",
       "       [0.29591837, 0.12121212],\n",
       "       ...,\n",
       "       [0.18231293, 0.12121212],\n",
       "       [0.16666667, 0.12121212],\n",
       "       [0.19387755, 0.12121212]])"
      ]
     },
     "execution_count": 55,
     "metadata": {},
     "output_type": "execute_result"
    }
   ],
   "source": [
    "trained_pipe[\"minmax\"].transform(X_test)"
   ]
  },
  {
   "cell_type": "markdown",
   "metadata": {},
   "source": [
    "# IV Bonus: Column Transformer"
   ]
  },
  {
   "cell_type": "markdown",
   "metadata": {},
   "source": [
    "Il est possible de faire des pre-processeurs plus complexes en distinguant par exemple le traitement des variables numériques et catégorielles"
   ]
  },
  {
   "cell_type": "code",
   "execution_count": 2,
   "metadata": {},
   "outputs": [
    {
     "ename": "NameError",
     "evalue": "name 'df' is not defined",
     "output_type": "error",
     "traceback": [
      "\u001b[1;31m---------------------------------------------------------------------------\u001b[0m",
      "\u001b[1;31mNameError\u001b[0m                                 Traceback (most recent call last)",
      "Cell \u001b[1;32mIn[2], line 2\u001b[0m\n\u001b[0;32m      1\u001b[0m \u001b[39mfrom\u001b[39;00m \u001b[39msklearn\u001b[39;00m\u001b[39m.\u001b[39;00m\u001b[39mmodel_selection\u001b[39;00m \u001b[39mimport\u001b[39;00m train_test_split\n\u001b[1;32m----> 2\u001b[0m y \u001b[39m=\u001b[39m df[\u001b[39m'\u001b[39m\u001b[39mprice\u001b[39m\u001b[39m'\u001b[39m]\n\u001b[0;32m      3\u001b[0m X \u001b[39m=\u001b[39m df[[\u001b[39m\"\u001b[39m\u001b[39msqft_living\u001b[39m\u001b[39m\"\u001b[39m,\u001b[39m\"\u001b[39m\u001b[39mbedrooms\u001b[39m\u001b[39m\"\u001b[39m,\u001b[39m\"\u001b[39m\u001b[39mzipcode\u001b[39m\u001b[39m\"\u001b[39m]]\n\u001b[0;32m      4\u001b[0m X_train, X_test, y_train, y_test \u001b[39m=\u001b[39m train_test_split(X, y, train_size\u001b[39m=\u001b[39m\u001b[39m0.8\u001b[39m, random_state\u001b[39m=\u001b[39m\u001b[39m42\u001b[39m)\n",
      "\u001b[1;31mNameError\u001b[0m: name 'df' is not defined"
     ]
    }
   ],
   "source": [
    "from sklearn.model_selection import train_test_split\n",
    "y = df['price']\n",
    "X = df[[\"sqft_living\",\"bedrooms\",\"zipcode\"]]\n",
    "X_train, X_test, y_train, y_test = train_test_split(X, y, train_size=0.8, random_state=42)\n",
    "\n",
    "\n",
    "# On cree un pipeline de proprocessing pour les variables numériques\n",
    "numeric_features = [\"sqft_living\",\"bedrooms\"]  \n",
    "\n",
    "from sklearn.pipeline import Pipeline\n",
    "from sklearn.preprocessing import MinMaxScaler\n",
    "from sklearn.impute import SimpleImputer\n",
    "\n",
    "numeric_transformer = Pipeline([\n",
    "        ('imputer', SimpleImputer(strategy='mean')),\n",
    "        ('min_max', MinMaxScaler()),  # moyenne nulle et écart type = 1 -> Reg, SVM, PCA\n",
    "        ])\n",
    "\n",
    "# On cree un pre-processeur pour les variables catégorielles\n",
    "categorial_features = [ \"zipcode\"]  # est utilisée pour définir la liste des variables catégorielles dans l'ensemble de données.\n",
    "\n",
    "from sklearn.preprocessing import OneHotEncoder\n",
    "categorical_transformer = OneHotEncoder(sparse=True)  # sparse=True --> pour savoir combien de zero avant le 1\n",
    "\n",
    "\n",
    "# a l'aide de la classe ColumnTransformer, \n",
    "# on déclare à quelles variables on applique quel transformer\n",
    "from sklearn.compose import ColumnTransformer\n",
    "preprocessor = ColumnTransformer(\n",
    "    transformers=[\n",
    "        ('num', numeric_transformer, numeric_features),\n",
    "        ('cat', categorical_transformer, categorial_features)\n",
    "    ]\n",
    ")\n",
    "\n",
    "\n",
    "#On obtient un pipeline de preprocessing qu'on peut utiliser dans un pipeline d'entainement\n",
    "from sklearn.neighbors import KNeighborsRegressor\n",
    "knn_4 = KNeighborsRegressor(n_neighbors=4)\n",
    "\n",
    "pipe = Pipeline([\n",
    "     ('prep', preprocessor),\n",
    "     ('knn', knn_4)\n",
    "])"
   ]
  },
  {
   "cell_type": "code",
   "execution_count": 58,
   "metadata": {},
   "outputs": [
    {
     "name": "stderr",
     "output_type": "stream",
     "text": [
      "/usr/local/Caskroom/miniconda/base/envs/azure-ml/lib/python3.10/site-packages/sklearn/preprocessing/_encoders.py:828: FutureWarning: `sparse` was renamed to `sparse_output` in version 1.2 and will be removed in 1.4. `sparse_output` is ignored unless you leave `sparse` to its default value.\n",
      "  warnings.warn(\n"
     ]
    },
    {
     "data": {
      "text/plain": [
       "0.7517670311841724"
      ]
     },
     "execution_count": 58,
     "metadata": {},
     "output_type": "execute_result"
    }
   ],
   "source": [
    "# Entrainement sur X_train\n",
    "trained_pipe = pipe.fit(X_train,y_train)\n",
    "\n",
    "# prediction sur X_test\n",
    "trained_pipe.predict(X_test)\n",
    "\n",
    "# scoring sur X_test\n",
    "trained_pipe.score(X_test,y_test)"
   ]
  }
 ],
 "metadata": {
  "kernelspec": {
   "display_name": "base",
   "language": "python",
   "name": "python3"
  },
  "language_info": {
   "codemirror_mode": {
    "name": "ipython",
    "version": 3
   },
   "file_extension": ".py",
   "mimetype": "text/x-python",
   "name": "python",
   "nbconvert_exporter": "python",
   "pygments_lexer": "ipython3",
   "version": "3.10.8"
  },
  "orig_nbformat": 4,
  "vscode": {
   "interpreter": {
    "hash": "b3256ad06983c34c3d35f0046b7ca12c3677676962e1bf5e104a75bd281eed85"
   }
  }
 },
 "nbformat": 4,
 "nbformat_minor": 2
}
